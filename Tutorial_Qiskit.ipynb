{
 "cells": [
  {
   "cell_type": "code",
   "execution_count": 18,
   "metadata": {},
   "outputs": [],
   "source": [
    "from qiskit import QuantumCircuit, QuantumRegister, ClassicalRegister\n",
    "from qiskit.quantum_info import SparsePauliOp\n",
    "from qiskit.transpiler.preset_passmanagers import generate_preset_pass_manager\n",
    "from qiskit_ibm_runtime import EstimatorV2 as Estimator, QiskitRuntimeService\n",
    "\n",
    "from qiskit.visualization import plot_histogram\n",
    "import numpy as np\n",
    "from math import cos,sin, pi, e, asin"
   ]
  },
  {
   "cell_type": "code",
   "execution_count": 27,
   "metadata": {},
   "outputs": [],
   "source": [
    "service = QiskitRuntimeService(channel=\"ibm_quantum\", token=\"8b5cd1d25c6b454f44fba3e0895d3cd36cf765d7d50f989aecde1f7ec24587229e42b7dfb4c089c65fc80be608c4a41a7603ddb1ad7fb67d57ffda21c54fada4\")\n",
    "QiskitRuntimeService.save_account(channel=\"ibm_quantum\", token=\"8b5cd1d25c6b454f44fba3e0895d3cd36cf765d7d50f989aecde1f7ec24587229e42b7dfb4c089c65fc80be608c4a41a7603ddb1ad7fb67d57ffda21c54fada4\", overwrite=True)"
   ]
  },
  {
   "cell_type": "code",
   "execution_count": 28,
   "metadata": {},
   "outputs": [
    {
     "data": {
      "text/html": [
       "<pre style=\"word-wrap: normal;white-space: pre;background: #fff0;line-height: 1.1;font-family: &quot;Courier New&quot;,Courier,monospace\">      \n",
       "q2_0: \n",
       "      \n",
       "q2_1: \n",
       "      \n",
       "c2: 2/\n",
       "      </pre>"
      ],
      "text/plain": [
       "      \n",
       "q2_0: \n",
       "      \n",
       "q2_1: \n",
       "      \n",
       "c2: 2/\n",
       "      "
      ]
     },
     "execution_count": 28,
     "metadata": {},
     "output_type": "execute_result"
    }
   ],
   "source": [
    "reg_quantico = QuantumRegister(2)\n",
    "reg_classico = ClassicalRegister(2)\n",
    "circuit = QuantumCircuit(reg_quantico, reg_classico)\n",
    "\n",
    "%matplotlib inline\n",
    "\n",
    "circuit.draw()"
   ]
  },
  {
   "cell_type": "code",
   "execution_count": 29,
   "metadata": {},
   "outputs": [
    {
     "data": {
      "text/html": [
       "<pre style=\"word-wrap: normal;white-space: pre;background: #fff0;line-height: 1.1;font-family: &quot;Courier New&quot;,Courier,monospace\">      ┌───┐\n",
       "q2_0: ┤ H ├\n",
       "      └───┘\n",
       "q2_1: ─────\n",
       "           \n",
       "c2: 2/═════\n",
       "           </pre>"
      ],
      "text/plain": [
       "      ┌───┐\n",
       "q2_0: ┤ H ├\n",
       "      └───┘\n",
       "q2_1: ─────\n",
       "           \n",
       "c2: 2/═════\n",
       "           "
      ]
     },
     "execution_count": 29,
     "metadata": {},
     "output_type": "execute_result"
    }
   ],
   "source": [
    "# Criando emaranhamento\n",
    "# 1) Aplicando porta de Hadamard\n",
    "\n",
    "circuit.h(reg_quantico[0])\n",
    "circuit.draw()"
   ]
  },
  {
   "cell_type": "code",
   "execution_count": 30,
   "metadata": {},
   "outputs": [
    {
     "data": {
      "text/html": [
       "<pre style=\"word-wrap: normal;white-space: pre;background: #fff0;line-height: 1.1;font-family: &quot;Courier New&quot;,Courier,monospace\">      ┌───┐     \n",
       "q2_0: ┤ H ├──■──\n",
       "      └───┘┌─┴─┐\n",
       "q2_1: ─────┤ X ├\n",
       "           └───┘\n",
       "c2: 2/══════════\n",
       "                </pre>"
      ],
      "text/plain": [
       "      ┌───┐     \n",
       "q2_0: ┤ H ├──■──\n",
       "      └───┘┌─┴─┐\n",
       "q2_1: ─────┤ X ├\n",
       "           └───┘\n",
       "c2: 2/══════════\n",
       "                "
      ]
     },
     "execution_count": 30,
     "metadata": {},
     "output_type": "execute_result"
    }
   ],
   "source": [
    "# 2) Aplicar uma porta CNOT\n",
    "circuit.cx(reg_quantico[0], reg_quantico[1])\n",
    "circuit.draw()"
   ]
  },
  {
   "cell_type": "code",
   "execution_count": 31,
   "metadata": {},
   "outputs": [
    {
     "data": {
      "text/html": [
       "<pre style=\"word-wrap: normal;white-space: pre;background: #fff0;line-height: 1.1;font-family: &quot;Courier New&quot;,Courier,monospace\">      ┌───┐     ┌─┐   \n",
       "q2_0: ┤ H ├──■──┤M├───\n",
       "      └───┘┌─┴─┐└╥┘┌─┐\n",
       "q2_1: ─────┤ X ├─╫─┤M├\n",
       "           └───┘ ║ └╥┘\n",
       "c2: 2/═══════════╩══╩═\n",
       "                 0  1 </pre>"
      ],
      "text/plain": [
       "      ┌───┐     ┌─┐   \n",
       "q2_0: ┤ H ├──■──┤M├───\n",
       "      └───┘┌─┴─┐└╥┘┌─┐\n",
       "q2_1: ─────┤ X ├─╫─┤M├\n",
       "           └───┘ ║ └╥┘\n",
       "c2: 2/═══════════╩══╩═\n",
       "                 0  1 "
      ]
     },
     "execution_count": 31,
     "metadata": {},
     "output_type": "execute_result"
    }
   ],
   "source": [
    "# 3) Medição\n",
    "circuit.measure(reg_quantico, reg_classico)\n",
    "circuit.draw()"
   ]
  },
  {
   "cell_type": "code",
   "execution_count": 32,
   "metadata": {},
   "outputs": [
    {
     "ename": "",
     "evalue": "",
     "output_type": "error",
     "traceback": [
      "\u001b[1;31mO Kernel deu pane ao executar o código na célula atual ou em uma célula anterior. \n",
      "\u001b[1;31mAnalise o código nas células para identificar uma possível causa da pane. \n",
      "\u001b[1;31mClique <a href='https://aka.ms/vscodeJupyterKernelCrash'>aqui</a> para obter mais informações. \n",
      "\u001b[1;31mConsulte Jupyter <a href='command:jupyter.viewOutput'>log</a> para obter mais detalhes."
     ]
    }
   ],
   "source": [
    "# 1ª alternativa: Simular um circuito quântico em um computador clássico\n",
    "\n",
    "backend_name = 'ibm_brisbane' \n",
    "backend = QiskitRuntimeService().get_backend(backend_name)\n",
    "pass_manager = generate_preset_pass_manager(optimization_level=1, backend=backend)\n",
    "\n",
    "qc_transpile = pass_manager.run(circuit)\n",
    "\n",
    "\n",
    "# simulador = Aer.get_backend('qasm_simulator')\n",
    "# execute(circuit, backend=simulador) "
   ]
  }
 ],
 "metadata": {
  "kernelspec": {
   "display_name": "Python 3",
   "language": "python",
   "name": "python3"
  },
  "language_info": {
   "codemirror_mode": {
    "name": "ipython",
    "version": 3
   },
   "file_extension": ".py",
   "mimetype": "text/x-python",
   "name": "python",
   "nbconvert_exporter": "python",
   "pygments_lexer": "ipython3",
   "version": "3.8.6"
  }
 },
 "nbformat": 4,
 "nbformat_minor": 2
}
